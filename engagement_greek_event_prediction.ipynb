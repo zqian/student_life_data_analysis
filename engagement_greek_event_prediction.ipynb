{
 "cells": [
  {
   "cell_type": "code",
   "execution_count": 2,
   "metadata": {},
   "outputs": [
    {
     "name": "stdout",
     "output_type": "stream",
     "text": [
      "Python: 3.6.4 |Anaconda custom (64-bit)| (default, Jan 16 2018, 12:04:33) \n",
      "[GCC 4.2.1 Compatible Clang 4.0.1 (tags/RELEASE_401/final)]\n",
      "scipy: 0.19.1\n",
      "numpy: 1.13.3\n",
      "matplotlib: 2.1.0\n",
      "pandas: 0.20.3\n",
      "sklearn: 0.19.1\n",
      "Python: 3.6.4 |Anaconda custom (64-bit)| (default, Jan 16 2018, 12:04:33) \n",
      "[GCC 4.2.1 Compatible Clang 4.0.1 (tags/RELEASE_401/final)]\n",
      "scipy: 0.19.1\n",
      "numpy: 1.13.3\n",
      "matplotlib: 2.1.0\n",
      "pandas: 0.20.3\n",
      "sklearn: 0.19.1\n"
     ]
    }
   ],
   "source": [
    "\n",
    "\n",
    "# Check the versions of libraries\n",
    "\n",
    "# Python version\n",
    "import sys\n",
    "print('Python: {}'.format(sys.version))\n",
    "# scipy\n",
    "import scipy\n",
    "print('scipy: {}'.format(scipy.__version__))\n",
    "# numpy\n",
    "import numpy\n",
    "print('numpy: {}'.format(numpy.__version__))\n",
    "# matplotlib\n",
    "import matplotlib\n",
    "print('matplotlib: {}'.format(matplotlib.__version__))\n",
    "# pandas\n",
    "import pandas\n",
    "print('pandas: {}'.format(pandas.__version__))\n",
    "# scikit-learn\n",
    "import sklearn\n",
    "print('sklearn: {}'.format(sklearn.__version__))\n",
    "1\n",
    "2\n",
    "3\n",
    "4\n",
    "5\n",
    "6\n",
    "7\n",
    "8\n",
    "9\n",
    "10\n",
    "11\n",
    "12\n",
    "13\n",
    "14\n",
    "15\n",
    "16\n",
    "17\n",
    "18\n",
    "19\n",
    "20\n",
    "# Check the versions of libraries\n",
    " \n",
    "# Python version\n",
    "import sys\n",
    "print('Python: {}'.format(sys.version))\n",
    "# scipy\n",
    "import scipy\n",
    "print('scipy: {}'.format(scipy.__version__))\n",
    "# numpy\n",
    "import numpy\n",
    "print('numpy: {}'.format(numpy.__version__))\n",
    "# matplotlib\n",
    "import matplotlib\n",
    "print('matplotlib: {}'.format(matplotlib.__version__))\n",
    "# pandas\n",
    "import pandas\n",
    "print('pandas: {}'.format(pandas.__version__))\n",
    "# scikit-learn\n",
    "import sklearn\n",
    "print('sklearn: {}'.format(sklearn.__version__))"
   ]
  },
  {
   "cell_type": "code",
   "execution_count": 3,
   "metadata": {
    "collapsed": true
   },
   "outputs": [],
   "source": [
    "\n",
    "\n",
    "# Load libraries\n",
    "import pandas\n",
    "from pandas.plotting import scatter_matrix\n",
    "import matplotlib.pyplot as plt\n",
    "from sklearn import model_selection\n",
    "from sklearn.metrics import classification_report\n",
    "from sklearn.metrics import confusion_matrix\n",
    "from sklearn.metrics import accuracy_score\n",
    "from sklearn.linear_model import LinearRegression\n",
    "from sklearn.linear_model import LogisticRegression\n",
    "from sklearn.tree import DecisionTreeClassifier\n",
    "from sklearn.neighbors import KNeighborsClassifier\n",
    "from sklearn.discriminant_analysis import LinearDiscriminantAnalysis\n",
    "from sklearn.naive_bayes import GaussianNB\n",
    "from sklearn.svm import SVC\n",
    "\n",
    "# Load libraries\n",
    "import pandas as pd\n",
    "from pandas.plotting import scatter_matrix\n",
    "import matplotlib.pyplot as plt\n",
    "from sklearn import model_selection\n",
    "from sklearn import datasets, linear_model\n",
    "from sklearn.metrics import classification_report\n",
    "from sklearn.metrics import confusion_matrix\n",
    "from sklearn.metrics import accuracy_score\n",
    "from sklearn.linear_model import LogisticRegression\n",
    "from sklearn.tree import DecisionTreeClassifier\n",
    "from sklearn.neighbors import KNeighborsClassifier\n",
    "from sklearn.discriminant_analysis import LinearDiscriminantAnalysis\n",
    "from sklearn.naive_bayes import GaussianNB\n",
    "from sklearn.svm import SVC"
   ]
  },
  {
   "cell_type": "code",
   "execution_count": 4,
   "metadata": {
    "collapsed": true
   },
   "outputs": [],
   "source": [
    "df = pd.read_csv('/Users/zqian/dev_hack/greek.csv',sep='\\t',header=(0), low_memory=False)"
   ]
  },
  {
   "cell_type": "code",
   "execution_count": 5,
   "metadata": {},
   "outputs": [
    {
     "data": {
      "text/plain": [
       "(3227, 5)"
      ]
     },
     "execution_count": 5,
     "metadata": {},
     "output_type": "execute_result"
    }
   ],
   "source": [
    "df.shape"
   ]
  },
  {
   "cell_type": "code",
   "execution_count": 6,
   "metadata": {},
   "outputs": [
    {
     "data": {
      "text/plain": [
       "Index(['First Generation', 'Email click score', 'Email open score',\n",
       "       'Event Score', 'Academic Engagement Score'],\n",
       "      dtype='object')"
      ]
     },
     "execution_count": 6,
     "metadata": {},
     "output_type": "execute_result"
    }
   ],
   "source": [
    "df.columns\n"
   ]
  },
  {
   "cell_type": "code",
   "execution_count": 7,
   "metadata": {},
   "outputs": [
    {
     "name": "stdout",
     "output_type": "stream",
     "text": [
      "    First Generation  Email click score  Email open score  Event Score  \\\n",
      "0                  0                2.0                 4           55   \n",
      "1                  0                1.0                 4          115   \n",
      "2                  0                0.0                 1           55   \n",
      "3                  0                0.0                 1           85   \n",
      "4                  0                1.0                 2          115   \n",
      "5                  0                1.0                 4           55   \n",
      "6                  0                2.0                 4          125   \n",
      "7                  0                1.0                 1           85   \n",
      "8                  0                2.0                 2           55   \n",
      "9                  0                1.0                 3           50   \n",
      "10                 0                1.0                 1           65   \n",
      "11                 0                3.0                 4           90   \n",
      "12                 0                1.0                 3           50   \n",
      "13                 0                0.0                 2           90   \n",
      "14                 0                0.0                 1          105   \n",
      "15                 0                2.0                 4           50   \n",
      "16                 0                1.0                 2          125   \n",
      "17                 0                2.0                 4           55   \n",
      "18                 0                0.0                 2          105   \n",
      "19                 0                3.0                 4          115   \n",
      "\n",
      "    Academic Engagement Score  \n",
      "0                       196.0  \n",
      "1                       136.0  \n",
      "2                       128.0  \n",
      "3                       127.0  \n",
      "4                       120.0  \n",
      "5                       115.0  \n",
      "6                       108.0  \n",
      "7                       108.0  \n",
      "8                       107.0  \n",
      "9                       101.0  \n",
      "10                      100.0  \n",
      "11                      100.0  \n",
      "12                      100.0  \n",
      "13                      100.0  \n",
      "14                      100.0  \n",
      "15                      100.0  \n",
      "16                      100.0  \n",
      "17                      100.0  \n",
      "18                      100.0  \n",
      "19                      100.0  \n"
     ]
    }
   ],
   "source": [
    "#head\n",
    "print(df.head(20))"
   ]
  },
  {
   "cell_type": "code",
   "execution_count": 9,
   "metadata": {
    "scrolled": true
   },
   "outputs": [
    {
     "name": "stdout",
     "output_type": "stream",
     "text": [
      "       First Generation  Email click score  Email open score  Event Score  \\\n",
      "count       3227.000000        3223.000000       3227.000000  3227.000000   \n",
      "mean           0.002169           0.700590          1.925937    75.092966   \n",
      "std            0.046531           0.808872          1.644780    35.024666   \n",
      "min            0.000000           0.000000          0.000000    15.000000   \n",
      "25%            0.000000           0.000000          0.000000    45.000000   \n",
      "50%            0.000000           1.000000          2.000000    75.000000   \n",
      "75%            0.000000           1.000000          3.000000   105.000000   \n",
      "max            1.000000           4.000000          6.000000   175.000000   \n",
      "\n",
      "       Academic Engagement Score  \n",
      "count                1695.000000  \n",
      "mean                   87.177581  \n",
      "std                     9.690900  \n",
      "min                     8.000000  \n",
      "25%                    84.000000  \n",
      "50%                    89.000000  \n",
      "75%                    93.000000  \n",
      "max                   196.000000  \n"
     ]
    }
   ],
   "source": [
    "\n",
    "# descriptions\n",
    "print(df.describe())"
   ]
  },
  {
   "cell_type": "code",
   "execution_count": 10,
   "metadata": {},
   "outputs": [
    {
     "data": {
      "image/png": "[encoded data removed]",
      "text/plain": [
       "<matplotlib.figure.Figure at 0x10cca1198>"
      ]
     },
     "metadata": {},
     "output_type": "display_data"
    }
   ],
   "source": [
    "df.hist()\n",
    "plt.show()"
   ]
  },
  {
   "cell_type": "code",
   "execution_count": 107,
   "metadata": {},
   "outputs": [
    {
     "data": {
      "image/png": "[encoded data removed]",
      "text/plain": [
       "<matplotlib.figure.Figure at 0x15114ee908>"
      ]
     },
     "metadata": {},
     "output_type": "display_data"
    }
   ],
   "source": [
    "scatter_matrix(df)\n",
    "plt.show()"
   ]
  },
  {
   "cell_type": "code",
   "execution_count": 108,
   "metadata": {
    "collapsed": true
   },
   "outputs": [],
   "source": [
    "array = df.values\n",
    "X = array[:,1:3]\n",
    "Y = array[:,0]\n",
    "validation_size = 0.20\n",
    "seed = 7\n",
    "X_train, X_validation, Y_train, Y_validation = model_selection.train_test_split(X, Y, test_size=validation_size, random_state=seed)"
   ]
  },
  {
   "cell_type": "code",
   "execution_count": 109,
   "metadata": {},
   "outputs": [
    {
     "data": {
      "text/plain": [
       "949"
      ]
     },
     "execution_count": 109,
     "metadata": {},
     "output_type": "execute_result"
    }
   ],
   "source": [
    "Y_validation.size"
   ]
  },
  {
   "cell_type": "code",
   "execution_count": 114,
   "metadata": {
    "collapsed": true
   },
   "outputs": [],
   "source": [
    "# Test options and evaluation metric\n",
    "seed = 7\n",
    "#scoring = rfr.score(X_validation,Y_validation)"
   ]
  },
  {
   "cell_type": "code",
   "execution_count": 121,
   "metadata": {},
   "outputs": [
    {
     "data": {
      "text/plain": [
       "Index(['Academic Engagement Score', 'Email click score', 'Email open score',\n",
       "       'Event Score'],\n",
       "      dtype='object')"
      ]
     },
     "execution_count": 121,
     "metadata": {},
     "output_type": "execute_result"
    }
   ],
   "source": [
    "df.columns"
   ]
  },
  {
   "cell_type": "code",
   "execution_count": 11,
   "metadata": {},
   "outputs": [
    {
     "name": "stdout",
     "output_type": "stream",
     "text": [
      "Intercept    53.698815\n",
      "x1            8.005933\n",
      "x2            8.191024\n",
      "x3            3.444042\n",
      "dtype: float64\n"
     ]
    }
   ],
   "source": [
    "## ordinary least squared model\n",
    "df.rename(columns={'Event Score': 'y', 'Email click score': 'x1', 'Email open score':'x2', \"First Generation\":'x3'}, inplace=True)\n",
    "\n",
    "import statsmodels.formula.api as smf\n",
    "\n",
    "lm = smf.ols(formula='y ~ x1 + x2 + x3', data=df).fit()\n",
    "print(lm.params)"
   ]
  },
  {
   "cell_type": "code",
   "execution_count": 126,
   "metadata": {},
   "outputs": [
    {
     "name": "stdout",
     "output_type": "stream",
     "text": [
      "                            OLS Regression Results                            \n",
      "==============================================================================\n",
      "Dep. Variable:                      y   R-squared:                       0.006\n",
      "Model:                            OLS   Adj. R-squared:                  0.005\n",
      "Method:                 Least Squares   F-statistic:                     9.325\n",
      "Date:                Fri, 02 Mar 2018   Prob (F-statistic):           3.82e-06\n",
      "Time:                        00:47:35   Log-Likelihood:                -17297.\n",
      "No. Observations:                4741   AIC:                         3.460e+04\n",
      "Df Residuals:                    4737   BIC:                         3.463e+04\n",
      "Df Model:                           3                                         \n",
      "Covariance Type:            nonrobust                                         \n",
      "==============================================================================\n",
      "                 coef    std err          t      P>|t|      [0.025      0.975]\n",
      "------------------------------------------------------------------------------\n",
      "Intercept     86.2032      0.430    200.566      0.000      85.361      87.046\n",
      "x1             0.7399      0.185      3.996      0.000       0.377       1.103\n",
      "x2            -0.0429      0.131     -0.328      0.743      -0.299       0.213\n",
      "x3             0.0117      0.004      2.894      0.004       0.004       0.020\n",
      "==============================================================================\n",
      "Omnibus:                     1794.541   Durbin-Watson:                   0.017\n",
      "Prob(Omnibus):                  0.000   Jarque-Bera (JB):            31030.356\n",
      "Skew:                          -1.350   Prob(JB):                         0.00\n",
      "Kurtosis:                      15.239   Cond. No.                         212.\n",
      "==============================================================================\n",
      "\n",
      "Warnings:\n",
      "[1] Standard Errors assume that the covariance matrix of the errors is correctly specified.\n"
     ]
    }
   ],
   "source": [
    "\n",
    "print(lm.summary())"
   ]
  },
  {
   "cell_type": "code",
   "execution_count": 12,
   "metadata": {},
   "outputs": [
    {
     "name": "stdout",
     "output_type": "stream",
     "text": [
      "Parameters:  Intercept    53.698815\n",
      "x1            8.005933\n",
      "x2            8.191024\n",
      "x3            3.444042\n",
      "dtype: float64\n",
      "R2:  0.278918038207\n"
     ]
    }
   ],
   "source": [
    "print('Parameters: ', lm.params)\n",
    "print('R2: ', lm.rsquared)"
   ]
  },
  {
   "cell_type": "code",
   "execution_count": null,
   "metadata": {
    "collapsed": true
   },
   "outputs": [],
   "source": []
  }
 ],
 "metadata": {
  "kernelspec": {
   "display_name": "Python 3",
   "language": "python",
   "name": "python3"
  },
  "language_info": {
   "codemirror_mode": {
    "name": "ipython",
    "version": 3
   },
   "file_extension": ".py",
   "mimetype": "text/x-python",
   "name": "python",
   "nbconvert_exporter": "python",
   "pygments_lexer": "ipython3",
   "version": "3.6.4"
  }
 },
 "nbformat": 4,
 "nbformat_minor": 2
}
