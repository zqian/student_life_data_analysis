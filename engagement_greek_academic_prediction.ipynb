{
 "cells": [
  {
   "cell_type": "code",
   "execution_count": 3,
   "metadata": {},
   "outputs": [
    {
     "name": "stdout",
     "output_type": "stream",
     "text": [
      "Python: 3.6.4 |Anaconda custom (64-bit)| (default, Jan 16 2018, 12:04:33) \n",
      "[GCC 4.2.1 Compatible Clang 4.0.1 (tags/RELEASE_401/final)]\n",
      "scipy: 0.19.1\n",
      "numpy: 1.13.3\n",
      "matplotlib: 2.1.0\n",
      "pandas: 0.20.3\n",
      "sklearn: 0.19.1\n",
      "Python: 3.6.4 |Anaconda custom (64-bit)| (default, Jan 16 2018, 12:04:33) \n",
      "[GCC 4.2.1 Compatible Clang 4.0.1 (tags/RELEASE_401/final)]\n",
      "scipy: 0.19.1\n",
      "numpy: 1.13.3\n",
      "matplotlib: 2.1.0\n",
      "pandas: 0.20.3\n",
      "sklearn: 0.19.1\n"
     ]
    }
   ],
   "source": [
    "\n",
    "\n",
    "# Check the versions of libraries\n",
    "\n",
    "# Python version\n",
    "import sys\n",
    "print('Python: {}'.format(sys.version))\n",
    "# scipy\n",
    "import scipy\n",
    "print('scipy: {}'.format(scipy.__version__))\n",
    "# numpy\n",
    "import numpy\n",
    "print('numpy: {}'.format(numpy.__version__))\n",
    "# matplotlib\n",
    "import matplotlib\n",
    "print('matplotlib: {}'.format(matplotlib.__version__))\n",
    "# pandas\n",
    "import pandas\n",
    "print('pandas: {}'.format(pandas.__version__))\n",
    "# scikit-learn\n",
    "import sklearn\n",
    "print('sklearn: {}'.format(sklearn.__version__))\n",
    "1\n",
    "2\n",
    "3\n",
    "4\n",
    "5\n",
    "6\n",
    "7\n",
    "8\n",
    "9\n",
    "10\n",
    "11\n",
    "12\n",
    "13\n",
    "14\n",
    "15\n",
    "16\n",
    "17\n",
    "18\n",
    "19\n",
    "20\n",
    "# Check the versions of libraries\n",
    " \n",
    "# Python version\n",
    "import sys\n",
    "print('Python: {}'.format(sys.version))\n",
    "# scipy\n",
    "import scipy\n",
    "print('scipy: {}'.format(scipy.__version__))\n",
    "# numpy\n",
    "import numpy\n",
    "print('numpy: {}'.format(numpy.__version__))\n",
    "# matplotlib\n",
    "import matplotlib\n",
    "print('matplotlib: {}'.format(matplotlib.__version__))\n",
    "# pandas\n",
    "import pandas\n",
    "print('pandas: {}'.format(pandas.__version__))\n",
    "# scikit-learn\n",
    "import sklearn\n",
    "print('sklearn: {}'.format(sklearn.__version__))"
   ]
  },
  {
   "cell_type": "code",
   "execution_count": 5,
   "metadata": {
    "collapsed": true
   },
   "outputs": [],
   "source": [
    "\n",
    "\n",
    "# Load libraries\n",
    "import pandas\n",
    "from pandas.plotting import scatter_matrix\n",
    "import matplotlib.pyplot as plt\n",
    "from sklearn import model_selection\n",
    "from sklearn.metrics import classification_report\n",
    "from sklearn.metrics import confusion_matrix\n",
    "from sklearn.metrics import accuracy_score\n",
    "from sklearn.linear_model import LinearRegression\n",
    "from sklearn.linear_model import LogisticRegression\n",
    "from sklearn.tree import DecisionTreeClassifier\n",
    "from sklearn.neighbors import KNeighborsClassifier\n",
    "from sklearn.discriminant_analysis import LinearDiscriminantAnalysis\n",
    "from sklearn.naive_bayes import GaussianNB\n",
    "from sklearn.svm import SVC\n",
    "\n",
    "# Load libraries\n",
    "import pandas as pd\n",
    "from pandas.plotting import scatter_matrix\n",
    "import matplotlib.pyplot as plt\n",
    "from sklearn import model_selection\n",
    "from sklearn import datasets, linear_model\n",
    "from sklearn.metrics import classification_report\n",
    "from sklearn.metrics import confusion_matrix\n",
    "from sklearn.metrics import accuracy_score\n",
    "from sklearn.linear_model import LogisticRegression\n",
    "from sklearn.tree import DecisionTreeClassifier\n",
    "from sklearn.neighbors import KNeighborsClassifier\n",
    "from sklearn.discriminant_analysis import LinearDiscriminantAnalysis\n",
    "from sklearn.naive_bayes import GaussianNB\n",
    "from sklearn.svm import SVC"
   ]
  },
  {
   "cell_type": "code",
   "execution_count": 10,
   "metadata": {},
   "outputs": [],
   "source": [
    "df = pd.read_csv('/Users/zqian/dev_hack/greek_academic.csv',sep='\\t',header=(0), low_memory=False)"
   ]
  },
  {
   "cell_type": "code",
   "execution_count": 11,
   "metadata": {},
   "outputs": [
    {
     "data": {
      "text/plain": [
       "(1695, 5)"
      ]
     },
     "execution_count": 11,
     "metadata": {},
     "output_type": "execute_result"
    }
   ],
   "source": [
    "df.shape"
   ]
  },
  {
   "cell_type": "code",
   "execution_count": 12,
   "metadata": {},
   "outputs": [
    {
     "data": {
      "text/plain": [
       "Index(['First Generation', 'Email click score', 'Email open score',\n",
       "       'Event Score', 'Academic Engagement Score'],\n",
       "      dtype='object')"
      ]
     },
     "execution_count": 12,
     "metadata": {},
     "output_type": "execute_result"
    }
   ],
   "source": [
    "df.columns\n"
   ]
  },
  {
   "cell_type": "code",
   "execution_count": 15,
   "metadata": {},
   "outputs": [
    {
     "name": "stdout",
     "output_type": "stream",
     "text": [
      "    First Generation  Email click score  Email open score  Event Score  \\\n",
      "0                  0                  2                 4           55   \n",
      "1                  0                  1                 4          115   \n",
      "2                  0                  0                 1           55   \n",
      "3                  0                  0                 1           85   \n",
      "4                  0                  1                 2          115   \n",
      "5                  0                  1                 4           55   \n",
      "6                  0                  2                 4          125   \n",
      "7                  0                  1                 1           85   \n",
      "8                  0                  2                 2           55   \n",
      "9                  0                  1                 3           50   \n",
      "10                 0                  1                 1           65   \n",
      "11                 0                  3                 4           90   \n",
      "12                 0                  1                 3           50   \n",
      "13                 0                  0                 2           90   \n",
      "14                 0                  0                 1          105   \n",
      "15                 0                  2                 4           50   \n",
      "16                 0                  1                 2          125   \n",
      "17                 0                  2                 4           55   \n",
      "18                 0                  0                 2          105   \n",
      "19                 0                  3                 4          115   \n",
      "\n",
      "    Academic Engagement Score  \n",
      "0                         196  \n",
      "1                         136  \n",
      "2                         128  \n",
      "3                         127  \n",
      "4                         120  \n",
      "5                         115  \n",
      "6                         108  \n",
      "7                         108  \n",
      "8                         107  \n",
      "9                         101  \n",
      "10                        100  \n",
      "11                        100  \n",
      "12                        100  \n",
      "13                        100  \n",
      "14                        100  \n",
      "15                        100  \n",
      "16                        100  \n",
      "17                        100  \n",
      "18                        100  \n",
      "19                        100  \n"
     ]
    }
   ],
   "source": [
    "#head\n",
    "print(df.head(20))"
   ]
  },
  {
   "cell_type": "code",
   "execution_count": 16,
   "metadata": {},
   "outputs": [
    {
     "name": "stdout",
     "output_type": "stream",
     "text": [
      "       First Generation  Email click score  Email open score  Event Score  \\\n",
      "count            1695.0        1695.000000       1695.000000  1695.000000   \n",
      "mean                0.0           1.037758          2.900885    90.327434   \n",
      "std                 0.0           0.776569          1.150265    30.560904   \n",
      "min                 0.0           0.000000          0.000000    15.000000   \n",
      "25%                 0.0           1.000000          2.000000    65.000000   \n",
      "50%                 0.0           1.000000          3.000000    95.000000   \n",
      "75%                 0.0           1.000000          4.000000   110.000000   \n",
      "max                 0.0           4.000000          6.000000   175.000000   \n",
      "\n",
      "       Academic Engagement Score  \n",
      "count                1695.000000  \n",
      "mean                   87.177581  \n",
      "std                     9.690900  \n",
      "min                     8.000000  \n",
      "25%                    84.000000  \n",
      "50%                    89.000000  \n",
      "75%                    93.000000  \n",
      "max                   196.000000  \n"
     ]
    }
   ],
   "source": [
    "\n",
    "# descriptions\n",
    "print(df.describe())"
   ]
  },
  {
   "cell_type": "code",
   "execution_count": 17,
   "metadata": {},
   "outputs": [
    {
     "data": {
      "image/png": "[encoded data removed]",
      "text/plain": [
       "<matplotlib.figure.Figure at 0x1a18a9e828>"
      ]
     },
     "metadata": {},
     "output_type": "display_data"
    }
   ],
   "source": [
    "df.hist()\n",
    "plt.show()"
   ]
  },
  {
   "cell_type": "code",
   "execution_count": 107,
   "metadata": {},
   "outputs": [
    {
     "data": {
      "image/png": "[encoded data removed]",
      "text/plain": [
       "<matplotlib.figure.Figure at 0x15114ee908>"
      ]
     },
     "metadata": {},
     "output_type": "display_data"
    }
   ],
   "source": [
    "scatter_matrix(df)\n",
    "plt.show()"
   ]
  },
  {
   "cell_type": "code",
   "execution_count": 108,
   "metadata": {
    "collapsed": true
   },
   "outputs": [],
   "source": [
    "array = df.values\n",
    "X = array[:,1:3]\n",
    "Y = array[:,0]\n",
    "validation_size = 0.20\n",
    "seed = 7\n",
    "X_train, X_validation, Y_train, Y_validation = model_selection.train_test_split(X, Y, test_size=validation_size, random_state=seed)"
   ]
  },
  {
   "cell_type": "code",
   "execution_count": 109,
   "metadata": {},
   "outputs": [
    {
     "data": {
      "text/plain": [
       "949"
      ]
     },
     "execution_count": 109,
     "metadata": {},
     "output_type": "execute_result"
    }
   ],
   "source": [
    "Y_validation.size"
   ]
  },
  {
   "cell_type": "code",
   "execution_count": 121,
   "metadata": {},
   "outputs": [
    {
     "data": {
      "text/plain": [
       "Index(['Academic Engagement Score', 'Email click score', 'Email open score',\n",
       "       'Event Score'],\n",
       "      dtype='object')"
      ]
     },
     "execution_count": 121,
     "metadata": {},
     "output_type": "execute_result"
    }
   ],
   "source": [
    "df.columns"
   ]
  },
  {
   "cell_type": "code",
   "execution_count": 18,
   "metadata": {},
   "outputs": [
    {
     "name": "stdout",
     "output_type": "stream",
     "text": [
      "Intercept    82.401925\n",
      "x1            0.606756\n",
      "x2           -0.025994\n",
      "x3            0.046734\n",
      "x4            0.000000\n",
      "dtype: float64\n"
     ]
    }
   ],
   "source": [
    "## ordinary least squared model\n",
    "df.rename(columns={'Academic Engagement Score': 'y', 'Email click score': 'x1', 'Email open score':'x2', 'Event Score':'x3', \"First Generation\":'x4'}, inplace=True)\n",
    "\n",
    "import statsmodels.formula.api as smf\n",
    "\n",
    "lm = smf.ols(formula='y ~ x1 + x2 + x3 + x4', data=df).fit()\n",
    "print(lm.params)"
   ]
  },
  {
   "cell_type": "code",
   "execution_count": 126,
   "metadata": {},
   "outputs": [
    {
     "name": "stdout",
     "output_type": "stream",
     "text": [
      "                            OLS Regression Results                            \n",
      "==============================================================================\n",
      "Dep. Variable:                      y   R-squared:                       0.006\n",
      "Model:                            OLS   Adj. R-squared:                  0.005\n",
      "Method:                 Least Squares   F-statistic:                     9.325\n",
      "Date:                Fri, 02 Mar 2018   Prob (F-statistic):           3.82e-06\n",
      "Time:                        00:47:35   Log-Likelihood:                -17297.\n",
      "No. Observations:                4741   AIC:                         3.460e+04\n",
      "Df Residuals:                    4737   BIC:                         3.463e+04\n",
      "Df Model:                           3                                         \n",
      "Covariance Type:            nonrobust                                         \n",
      "==============================================================================\n",
      "                 coef    std err          t      P>|t|      [0.025      0.975]\n",
      "------------------------------------------------------------------------------\n",
      "Intercept     86.2032      0.430    200.566      0.000      85.361      87.046\n",
      "x1             0.7399      0.185      3.996      0.000       0.377       1.103\n",
      "x2            -0.0429      0.131     -0.328      0.743      -0.299       0.213\n",
      "x3             0.0117      0.004      2.894      0.004       0.004       0.020\n",
      "==============================================================================\n",
      "Omnibus:                     1794.541   Durbin-Watson:                   0.017\n",
      "Prob(Omnibus):                  0.000   Jarque-Bera (JB):            31030.356\n",
      "Skew:                          -1.350   Prob(JB):                         0.00\n",
      "Kurtosis:                      15.239   Cond. No.                         212.\n",
      "==============================================================================\n",
      "\n",
      "Warnings:\n",
      "[1] Standard Errors assume that the covariance matrix of the errors is correctly specified.\n"
     ]
    }
   ],
   "source": [
    "\n",
    "print(lm.summary())"
   ]
  },
  {
   "cell_type": "code",
   "execution_count": 19,
   "metadata": {},
   "outputs": [
    {
     "name": "stdout",
     "output_type": "stream",
     "text": [
      "Parameters:  Intercept    82.401925\n",
      "x1            0.606756\n",
      "x2           -0.025994\n",
      "x3            0.046734\n",
      "x4            0.000000\n",
      "dtype: float64\n",
      "R2:  0.0260538654628\n"
     ]
    }
   ],
   "source": [
    "print('Parameters: ', lm.params)\n",
    "print('R2: ', lm.rsquared)"
   ]
  },
  {
   "cell_type": "code",
   "execution_count": null,
   "metadata": {
    "collapsed": true
   },
   "outputs": [],
   "source": []
  }
 ],
 "metadata": {
  "kernelspec": {
   "display_name": "Python 3",
   "language": "python",
   "name": "python3"
  },
  "language_info": {
   "codemirror_mode": {
    "name": "ipython",
    "version": 3
   },
   "file_extension": ".py",
   "mimetype": "text/x-python",
   "name": "python",
   "nbconvert_exporter": "python",
   "pygments_lexer": "ipython3",
   "version": "3.6.4"
  }
 },
 "nbformat": 4,
 "nbformat_minor": 2
}
